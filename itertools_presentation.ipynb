{
 "cells": [
  {
   "cell_type": "code",
   "execution_count": 1,
   "metadata": {},
   "outputs": [],
   "source": [
    "import itertools as it\n",
    "import more_itertools as more_it\n",
    "import seaborn as sns\n",
    "import matplotlib.pyplot as plt\n",
    "import pprint\n",
    "import math\n",
    "%matplotlib inline\n",
    "%load_ext memory_profiler"
   ]
  },
  {
   "cell_type": "markdown",
   "metadata": {},
   "source": [
    "# <a id='toc1_'></a>[Disclaimer:](#toc0_)\n",
    "\n",
    "This notebook was prepared as part of a Python study group organized by the good folks at [Boston Python](https://about.bostonpython.com/). \n",
    "\n",
    "Wherever I used external sources, I made an honest effort to refer to them, but if I have made any errors or omitted any original sources, please let me know.\n",
    "\n",
    "I hope you find this material (and honestly the fun math to go with it,) curious, in your ventures.\n",
    "\n",
    "Cheers!\n",
    "\n",
    "-Sid"
   ]
  },
  {
   "cell_type": "markdown",
   "metadata": {},
   "source": [
    "**Table of contents**<a id='toc0_'></a>    \n",
    "- [Disclaimer:](#toc1_)    \n",
    "- [What is an `iterable` in python?](#toc2_)    \n",
    "- [What is an `iterator` in python?](#toc3_)    \n",
    "- [`itertools` Module](#toc4_)    \n",
    "- [Function breakdown of `itertools`](#toc5_)    \n",
    "  - [Infinite iterators](#toc5_1_)    \n",
    "  - [Iterators terminating on the shortest input sequence](#toc5_2_)    \n",
    "  - [Combinatoric iterators](#toc5_3_)    \n",
    "  - [`itertools` recipes](#toc5_4_)    \n",
    "  - [`more_itertools`!](#toc5_5_)    \n",
    "- [`itertools` use scenario #1: Starmap](#toc6_)    \n",
    "  - [`itertools.starmap()`](#toc6_1_)    \n",
    "- [`itertools` use scenario #2: Zip functions](#toc7_)    \n",
    "  - [`itertools.zip_longest()`](#toc7_1_)    \n",
    "  - [`more_itertools.zip_offset()`](#toc7_2_)    \n",
    "- [`itertools` use scenario #3: Recursive functions](#toc8_)    \n",
    "  - [First order recurrence relations](#toc8_1_)    \n",
    "  - [Second order recurrence relations](#toc8_2_)    \n",
    "- [`itertools` use scenario #4: Combining Data](#toc9_)    \n",
    "  - [`more_itertools.collapse()`](#toc9_1_)    \n",
    "- [`itertools` use scenario #5: Grouping Data](#toc10_)    \n",
    "  - [`itertools.groupby()`](#toc10_1_)    \n",
    "  - [`more_itertools.grouper()`](#toc10_2_)    \n",
    "- [`itertools` use scenario #6: Combinatorics](#toc11_)    \n",
    "  - [`itertools.permutations()`](#toc11_1_)    \n",
    "  - [`itertools.combinations()`](#toc11_2_)    \n",
    "  - [`itertools.product()`](#toc11_3_)    \n",
    "- [`itertools` use scenario #7: Indexing](#toc12_)    \n",
    "  - [`more_itertools.locate()`](#toc12_1_)    \n",
    "  - [`itertools.islice()`](#toc12_2_)    \n",
    "- [`itertools` use scenario #8: Filtering Data](#toc13_)    \n",
    "  - [`itertools.compress()`](#toc13_1_)    \n",
    "  - [`more_itertools.filter_except()`](#toc13_2_)    \n",
    "- [`itertools` scenario #9: Summarizing data](#toc14_)    \n",
    "  - [`more_itertools.map_reduce()`](#toc14_1_)    \n",
    "    - [The strangeness of `pi`](#toc14_1_1_)    \n",
    "- [`itertools` scenario #10: Splitting Data](#toc15_)    \n",
    "  - [`itertools.takewhile()`](#toc15_1_)    \n",
    "    - [Getting the `index` of the entry](#toc15_1_1_)    \n",
    "  - [`more_itertools.map_except()`](#toc15_2_)    \n",
    "  - [`moreitertools.partition()`](#toc15_3_)    \n",
    "\n",
    "<!-- vscode-jupyter-toc-config\n",
    "\tnumbering=false\n",
    "\tanchor=true\n",
    "\tflat=false\n",
    "\tminLevel=1\n",
    "\tmaxLevel=6\n",
    "\t/vscode-jupyter-toc-config -->\n",
    "<!-- THIS CELL WILL BE REPLACED ON TOC UPDATE. DO NOT WRITE YOUR TEXT IN THIS CELL -->"
   ]
  },
  {
   "cell_type": "markdown",
   "metadata": {},
   "source": [
    "# <a id='toc2_'></a>[What is an `iterable` in python?](#toc0_)\n",
    "\n",
    "Any Python object with a `.__iter__()` or `.__getitem__()` methods is iterable.\n",
    "\n",
    "```\n",
    "    Iterable\n",
    "    \n",
    "    An object capable of returning its members one at a time. Examples of iterables include all sequence types (such as list, str, and tuple) and some non-sequence types like dict, file objects, and objects of any classes you define with an __iter__() method or with a __getitem__() method that implements sequence semantics.\n",
    "\n",
    "    Iterables can be used in a for loop and in many other places where a sequence is needed (zip(), map(), …). When an iterable object is passed as an argument to the built-in function iter(), it returns an iterator for the object. This iterator is good for one pass over the set of values. When using iterables, it is usually not necessary to call iter() or deal with iterator objects yourself. The for statement does that automatically for you, creating a temporary unnamed variable to hold the iterator for the duration of the loop. See also iterator, sequence, and generator.\n",
    "\n",
    "```\n",
    "\n",
    "# <a id='toc3_'></a>[What is an `iterator` in python?](#toc0_)\n",
    "\n",
    "\n",
    "```\n",
    "    Iterator\n",
    "\n",
    "    An object representing a stream of data. Repeated calls to the iterator’s __next__() method (or passing it to the built-in function next()) return successive items in the stream. When no more data are available a StopIteration exception is raised instead. At this point, the iterator object is exhausted and any further calls to its __next__() method just raise StopIteration again. Iterators are required to have an __iter__() method that returns the iterator object itself so every iterator is also iterable and may be used in most places where other iterables are accepted. One notable exception is code which attempts multiple iteration passes. A container object (such as a list) produces a fresh new iterator each time you pass it to the iter() function or use it in a for loop. Attempting this with an iterator will just return the same exhausted iterator object used in the previous iteration pass, making it appear like an empty container.\n",
    "\n",
    "```\n",
    "\n",
    "\n",
    "**E.g. #1:**: `map()` is a built-in operator function that applies `len` to each element in the iterable.\n",
    "\n",
    "```python\n",
    "\n",
    "    >>> list(map(len, ['cat','dogs','wombats']))\n",
    "    [3, 4, 7]\n",
    "\n",
    "```\n",
    "**E.g. #2:**: Iterators are iterable, and can be used to compose _iterator algebra_\n",
    "\n",
    "```python\n",
    "    >>> list(map(math.prod, zip([2.0,3.1,4], [4, 5, 6])))\n",
    "    [8.0, 15.5, 24]\n",
    "\n",
    "```\n",
    "**E.g. #3:**: `map()` can be used with custom functions as well.\n",
    "\n",
    "```python\n",
    "\n",
    "    number_list = [x for x in range(0,10)]\n",
    "\n",
    "    def function(number):\n",
    "        print(f\"Currently performing transformation on number {number}\")\n",
    "        return number**2\n",
    "\n",
    "    print('Original list: ', number_list)\n",
    "\n",
    "    mapped_list = list(map(function, number_list))\n",
    "\n",
    "    print(f'Post-Transformed list: {mapped_list}')\n",
    "\n",
    "    Original list:  [0, 1, 2, 3, 4, 5, 6, 7, 8, 9]\n",
    "    Currently performing transformation on number 0\n",
    "    Currently performing transformation on number 1\n",
    "    Currently performing transformation on number 2\n",
    "    Currently performing transformation on number 3\n",
    "    Currently performing transformation on number 4\n",
    "    Currently performing transformation on number 5\n",
    "    Currently performing transformation on number 6\n",
    "    Currently performing transformation on number 7\n",
    "    Currently performing transformation on number 8\n",
    "    Currently performing transformation on number 9\n",
    "    Post-Transformed list: [0, 1, 4, 9, 16, 25, 36, 49, 64, 81]\n",
    "\n",
    "```\n",
    "\n",
    "# <a id='toc4_'></a>[`itertools` Module](#toc0_)\n",
    "\n",
    "- Python's approach to `iterator algebra` \n",
    "- fast, memory-efficient, concise code \n",
    "    - _lazy evaluation_ (call-by-need) delays evaluatio of expression until its value is needed.\n",
    "\n",
    "```python\n",
    "\n",
    "    def itertools_repeat():\n",
    "        for _ in it.repeat(None, 1_000_000):\n",
    "            pass\n",
    "\n",
    "    >>>> %timeit itertools_repeat()\n",
    "        9.4 ms ± 602 µs per loop (mean ± std. dev. of 7 runs, 100 loops each)\n",
    "\n",
    "    def standard_loop():\n",
    "        for _ in range(1_000_000):\n",
    "            pass\n",
    "\n",
    "    >>>> %timeit standard_loop()\n",
    "        20 ms ± 976 µs per loop (mean ± std. dev. of 7 runs, 10 loops each)\n",
    "```\n",
    "\n",
    "<!-- # Remarks\n",
    "\n",
    "Refer to the Real Python example on memory efficiency -->"
   ]
  },
  {
   "cell_type": "markdown",
   "metadata": {},
   "source": [
    "# <a id='toc5_'></a>[Function breakdown of `itertools`](#toc0_)\n"
   ]
  },
  {
   "cell_type": "markdown",
   "metadata": {},
   "source": [
    "## <a id='toc5_1_'></a>[Infinite iterators](#toc0_)\n",
    "\n",
    "| Iterator | Arguments     | Results                                        | Example                               |\n",
    "|----------|---------------|------------------------------------------------|---------------------------------------|\n",
    "| count()  | start, [step] | start, start+step, start+2*step, …             | `count(10) --> 10 11 12 13 14 ...`      |\n",
    "| cycle()  | p             | p0, p1, … plast, p0, p1, …                     |  `cycle('ABCD') --> A B C D A B C D ...`  |\n",
    "| **repeat()** | elem [,n]     | elem, elem, elem, … endlessly or up to n times |  `repeat(10, 3) --> 10 10 10`             |"
   ]
  },
  {
   "cell_type": "markdown",
   "metadata": {},
   "source": [
    "## <a id='toc5_2_'></a>[Iterators terminating on the shortest input sequence](#toc0_)\n",
    "\n",
    "| Iterator              | Arguments                   | Results                                    | Example                                                  |\n",
    "|-----------------------|-----------------------------|--------------------------------------------|----------------------------------------------------------|\n",
    "| **accumulate()**          | p [,func]                   | p0, p0+p1, p0+p1+p2, …                     | `accumulate([1,2,3,4,5]) --> 1 3 6 10 15 `                 |\n",
    "| chain()               | p, q, …                     | p0, p1, … plast, q0, q1, …                 | `chain('ABC', 'DEF') --> A B C D E F`                      |\n",
    "| chain.from_iterable() | iterable                    | p0, p1, … plast, q0, q1, …                 | `chain.from_iterable(['ABC', 'DEF']) --> A B C D E F`      |\n",
    "| compress()            | data, selectors             | (d[0] if s[0]), (d[1] if s[1]), …          | `compress('ABCDEF', [1,0,1,0,1,1]) --> A C E F`            |\n",
    "| dropwhile()           | pred, seq                   | seq[n], seq[n+1], starting when pred fails | `dropwhile(lambda x: x<5, [1,4,6,4,1]) --> 6 4 1`          |\n",
    "| **filterfalse()**         | pred, seq                   | elements of seq where pred(elem) is false  | `filterfalse(lambda x: x%2, range(10)) --> 0 2 4 6 8`      |\n",
    "| **groupby()**             | iterable[, key]             | sub-iterators grouped by value of key(v)   |                                                          |\n",
    "| **islice()**              | seq, [start,] stop [, step] | elements from seq[start:stop:step]         | `islice('ABCDEFG', 2, None) --> C D E F G`                 |\n",
    "| pairwise()            | iterable                    | (p[0], p[1]), (p[1], p[2])                 | `pairwise('ABCDEFG') --> AB BC CD DE EF FG`                |\n",
    "| starmap()             | func, seq                   | func(*seq[0]), func(*seq[1]), …            | `starmap(pow, [(2,5), (3,2), (10,3)]) --> 32 9 1000`       |\n",
    "| **takewhile()**           | pred, seq                   | seq[0], seq[1], until pred fails           | `takewhile(lambda x: x<5, [1,4,6,4,1]) --> 1 4 `           |\n",
    "| tee()                 | it, n                       | it1, it2, … itn splits one iterator into n |                                                          |\n",
    "| zip_longest()         | p, q, …                     | (p[0], q[0]), (p[1], q[1]), …              | `zip_longest('ABCD', 'xy', fillvalue='-') --> Ax By C- D-` |\n"
   ]
  },
  {
   "cell_type": "markdown",
   "metadata": {},
   "source": [
    "## <a id='toc5_3_'></a>[Combinatoric iterators](#toc0_)\n",
    "\n",
    "| Iterator                        | Arguments          | Results                                                       |\n",
    "|---------------------------------|--------------------|---------------------------------------------------------------|\n",
    "| product()                       | p, q, … [repeat=1] | cartesian product, equivalent to a nested for-loop            |\n",
    "| permutations()                  | p[, r]             | r-length tuples, all possible orderings, no repeated elements |\n",
    "| combinations()                  | p, r               | r-length tuples, in sorted order, no repeated elements        |\n",
    "| combinations_with_replacement() | p, r               | r-length tuples, in sorted order, with repeated elements      |\n",
    "\n",
    "Some examples:\n",
    "\n",
    "| Examples                                 | Results                                         | Results                                                       |\n",
    "|------------------------------------------|-------------------------------------------------|---------------------------------------------------------------|\n",
    "| `product('ABCD', repeat=2)`               | `AA AB AC AD BA BB BC BD CA CB CC CD DA DB DC DD` | cartesian product, equivalent to a nested for-loop            |\n",
    "| `permutations('ABCD', 2)`                  | `AB AC AD BA BC BD CA CB CD DA DB DC`             | r-length tuples, all possible orderings, no repeated elements |\n",
    "| `combinations('ABCD', 2)`                  | `AB AC AD BC BD CD`                               | r-length tuples, in sorted order, no repeated elements        |\n",
    "| `combinations_with_replacement('ABCD', 2)` | `AA AB AC AD BB BC BD CC CD DD`                   | r-length tuples, in sorted order, with repeated elements      |"
   ]
  },
  {
   "cell_type": "markdown",
   "metadata": {},
   "source": [
    "## <a id='toc5_4_'></a>[`itertools` recipes](#toc0_)\n",
    "\n",
    "Itertools Reciples [URL](https://docs.python.org/3.6/library/itertools.html#itertools-recipes)"
   ]
  },
  {
   "cell_type": "markdown",
   "metadata": {},
   "source": [
    "## <a id='toc5_5_'></a>[`more_itertools`!](#toc0_)\n",
    "\n",
    "Honestly, too much to cover even in a table because it's **that** good! [URL](https://more-itertools.readthedocs.io/en/stable/index.html)"
   ]
  },
  {
   "cell_type": "markdown",
   "metadata": {},
   "source": [
    "# <a id='toc6_'></a>[`itertools` use scenario #1: Starmap](#toc0_)\n",
    "\n",
    "## <a id='toc6_1_'></a>[`itertools.starmap()`](#toc0_)\n",
    "\n",
    "\n",
    "Make an iterator that computes the function using arguments obtained from the iterable. Used instead of map() when argument parameters are already grouped in tuples from a single iterable (when the data has been “pre-zipped”).\n",
    "\n",
    "The difference between map() and starmap() parallels the distinction between `function(a,b)` and `function(*c)`. "
   ]
  },
  {
   "cell_type": "markdown",
   "metadata": {},
   "source": [
    "_Scenario_: If you already have the data pre-zipped, use `starmap` directly."
   ]
  },
  {
   "cell_type": "code",
   "execution_count": 2,
   "metadata": {},
   "outputs": [
    {
     "data": {
      "text/plain": [
       "[32, 9, 1000]"
      ]
     },
     "execution_count": 2,
     "metadata": {},
     "output_type": "execute_result"
    }
   ],
   "source": [
    "list(it.starmap(pow, [(2,5), (3,2), (10,3)]))"
   ]
  },
  {
   "cell_type": "markdown",
   "metadata": {},
   "source": [
    "_Scenario_: You can also still use `zip` to perform the calculation."
   ]
  },
  {
   "cell_type": "code",
   "execution_count": 3,
   "metadata": {},
   "outputs": [
    {
     "data": {
      "text/plain": [
       "[32, 9, 1000]"
      ]
     },
     "execution_count": 3,
     "metadata": {},
     "output_type": "execute_result"
    }
   ],
   "source": [
    "list(it.starmap(pow, zip([2,3,10], [5, 2, 3])))"
   ]
  },
  {
   "cell_type": "markdown",
   "metadata": {},
   "source": [
    "Note that for `map`, you need to do your own unpacking before the calculation."
   ]
  },
  {
   "cell_type": "code",
   "execution_count": 4,
   "metadata": {},
   "outputs": [
    {
     "data": {
      "text/plain": [
       "[32, 9, 1000]"
      ]
     },
     "execution_count": 4,
     "metadata": {},
     "output_type": "execute_result"
    }
   ],
   "source": [
    "list(map(lambda x: pow(x[0],x[1]),  zip([2,3,10], [5, 2, 3])))"
   ]
  },
  {
   "cell_type": "markdown",
   "metadata": {},
   "source": [
    "_Scenario_: We want to calculate the daily fluctuations of tempearature.\n",
    "\n",
    "**Note** how I am consuming the two variables as input _immediately_."
   ]
  },
  {
   "cell_type": "code",
   "execution_count": 5,
   "metadata": {},
   "outputs": [
    {
     "data": {
      "text/plain": [
       "<Axes: >"
      ]
     },
     "execution_count": 5,
     "metadata": {},
     "output_type": "execute_result"
    },
    {
     "data": {
      "image/png": "[encoded data removed]",
      "text/plain": [
       "<Figure size 640x480 with 1 Axes>"
      ]
     },
     "metadata": {},
     "output_type": "display_data"
    }
   ],
   "source": [
    "def subtract(a,b):\n",
    "    return a-b\n",
    "\n",
    "temps = [70, 69, 69, 58, 55, 68, 81, 90, 89, 88, 75, 76, 74]\n",
    "\n",
    "\n",
    "\n",
    "diffs = list(it.starmap(subtract, zip(temps[1:], temps[:-1])))\n",
    "\n",
    "data = {\"x\": list(range(len(diffs))), \"y\": diffs}\n",
    "sns.barplot(data=data, x=\"x\", y=\"y\")"
   ]
  },
  {
   "cell_type": "markdown",
   "metadata": {},
   "source": [
    "# <a id='toc7_'></a>[`itertools` use scenario #2: Zip functions](#toc0_)\n",
    "\n",
    "Aggregate elements from each iterable. Have the option to introduce a fill value.\n",
    "\n",
    "_Scenario_: You want the output of a `zip` to still contain the same number of elements as the longest iterable.."
   ]
  },
  {
   "cell_type": "markdown",
   "metadata": {},
   "source": [
    "## <a id='toc7_1_'></a>[`itertools.zip_longest()`](#toc0_)"
   ]
  },
  {
   "cell_type": "code",
   "execution_count": 6,
   "metadata": {},
   "outputs": [
    {
     "data": {
      "text/plain": [
       "[('Lewis (GOAT)', 'Hamilton', 'Mercedes'),\n",
       " ('George', 'Russell', 'Mercedes'),\n",
       " ('Charles', 'Leclerc', 'Ferrari'),\n",
       " ('Max', 'Verstappen', 'Red Bull (Boo)')]"
      ]
     },
     "execution_count": 6,
     "metadata": {},
     "output_type": "execute_result"
    }
   ],
   "source": [
    "# Start with a case where the number of elements is matched.\n",
    "driver_first_names = ['Lewis (GOAT)','George','Charles','Max']\n",
    "driver_last_names = ['Hamilton','Russell','Leclerc','Verstappen']\n",
    "team_names = ['Mercedes', 'Mercedes','Ferrari','Red Bull (Boo)']\n",
    "\n",
    "list(zip(driver_first_names, driver_last_names,team_names))"
   ]
  },
  {
   "cell_type": "code",
   "execution_count": 7,
   "metadata": {},
   "outputs": [
    {
     "data": {
      "text/plain": [
       "[('Lewis (GOAT)', 'Hamilton', 'Mercedes'),\n",
       " ('George', 'Russell', 'Mercedes'),\n",
       " ('Charles', 'Leclerc', 'Ferrari'),\n",
       " ('Max', 'Verstappen', 'Red Bull (Boo)'),\n",
       " ('Nicholas', 'Latifi', None)]"
      ]
     },
     "execution_count": 7,
     "metadata": {},
     "output_type": "execute_result"
    }
   ],
   "source": [
    "# Poor Latifi is still in the list.\n",
    "\n",
    "driver_first_names = ['Lewis (GOAT)','George','Charles','Max','Nicholas']\n",
    "driver_last_names = ['Hamilton','Russell','Leclerc','Verstappen','Latifi']\n",
    "team_names = ['Mercedes', 'Mercedes','Ferrari','Red Bull (Boo)']\n",
    "\n",
    "list(it.zip_longest(driver_first_names, driver_last_names,team_names))"
   ]
  },
  {
   "cell_type": "code",
   "execution_count": 8,
   "metadata": {},
   "outputs": [
    {
     "data": {
      "text/plain": [
       "[('Lewis (GOAT)', 'Hamilton', 'Mercedes'),\n",
       " ('George', 'Russell', 'Mercedes'),\n",
       " ('Charles', 'Leclerc', 'Ferrari'),\n",
       " ('Max', 'Verstappen', 'Red Bull (Boo)')]"
      ]
     },
     "execution_count": 8,
     "metadata": {},
     "output_type": "execute_result"
    }
   ],
   "source": [
    "# Note that the Nicholas Latifi is dropped in the result. Oh wait.\n",
    "\n",
    "driver_first_names = ['Lewis (GOAT)','George','Charles','Max','Nicholas']\n",
    "driver_last_names = ['Hamilton','Russell','Leclerc','Verstappen','Latifi']\n",
    "team_names = ['Mercedes', 'Mercedes','Ferrari','Red Bull (Boo)']\n",
    "\n",
    "list(zip(driver_first_names, driver_last_names,team_names))"
   ]
  },
  {
   "cell_type": "markdown",
   "metadata": {},
   "source": [
    "## <a id='toc7_2_'></a>[`more_itertools.zip_offset()`](#toc0_)\n",
    "\n",
    "_Scenario_: You want to offset the zip operations."
   ]
  },
  {
   "cell_type": "code",
   "execution_count": 9,
   "metadata": {},
   "outputs": [
    {
     "data": {
      "text/plain": [
       "[('Lewis (GOAT)', 'Hamilton', 'Mercedes'),\n",
       " ('George', 'Russell', 'Mercedes'),\n",
       " ('Charles', 'Leclerc', 'Ferrari'),\n",
       " ('Max', 'Verstappen', 'Red Bull (Boo)'),\n",
       " ('Nicholas', 'Latifi', None)]"
      ]
     },
     "execution_count": 9,
     "metadata": {},
     "output_type": "execute_result"
    }
   ],
   "source": [
    "driver_first_names = ['Lewis (GOAT)','George','Charles','Max','Nicholas']\n",
    "driver_last_names = ['Hamilton','Russell','Leclerc','Verstappen','Latifi']\n",
    "team_names = ['Mercedes', 'Mercedes','Ferrari','Red Bull (Boo)']\n",
    "\n",
    "list(more_it.zip_offset(driver_first_names,driver_last_names,team_names, offsets=(0,0,0),longest=True,fillvalue=None))"
   ]
  },
  {
   "cell_type": "code",
   "execution_count": 10,
   "metadata": {},
   "outputs": [
    {
     "data": {
      "text/plain": [
       "[('George', 'Hamilton', 'Mercedes'),\n",
       " ('Charles', 'Russell', 'Mercedes'),\n",
       " ('Max', 'Leclerc', 'Ferrari'),\n",
       " ('Nicholas', 'Verstappen', 'Red Bull (Boo)'),\n",
       " ('Seriously?', 'Latifi', 'Seriously?')]"
      ]
     },
     "execution_count": 10,
     "metadata": {},
     "output_type": "execute_result"
    }
   ],
   "source": [
    "driver_first_names = ['Lewis (GOAT)','George','Charles','Max','Nicholas']\n",
    "driver_last_names = ['Hamilton','Russell','Leclerc','Verstappen','Latifi']\n",
    "team_names = ['Mercedes', 'Mercedes','Ferrari','Red Bull (Boo)']\n",
    "\n",
    "list(more_it.zip_offset(driver_first_names,driver_last_names,team_names, offsets=(1,0,0),longest=True,fillvalue='Seriously?'))"
   ]
  },
  {
   "cell_type": "code",
   "execution_count": 11,
   "metadata": {},
   "outputs": [
    {
     "data": {
      "text/plain": [
       "[('Lewis (GOAT)', 'Hamilton', None),\n",
       " ('George', 'Russell', 'Mercedes'),\n",
       " ('Charles', 'Leclerc', 'Mercedes'),\n",
       " ('Max', 'Verstappen', 'Ferrari'),\n",
       " ('Nicholas', 'Latifi', 'Red Bull (Boo)')]"
      ]
     },
     "execution_count": 11,
     "metadata": {},
     "output_type": "execute_result"
    }
   ],
   "source": [
    "# With team offset, Nicholas Latifi went to Red Bull. And Charles goes to Mercedes. Oh my!\n",
    "\n",
    "driver_first_names = ['Lewis (GOAT)','George','Charles','Max','Nicholas']\n",
    "driver_last_names = ['Hamilton','Russell','Leclerc','Verstappen','Latifi']\n",
    "team_names = ['Mercedes', 'Mercedes','Ferrari','Red Bull (Boo)']\n",
    "\n",
    "list(more_it.zip_offset(driver_first_names,driver_last_names,team_names, offsets=(0,0,-1),longest=True))"
   ]
  },
  {
   "cell_type": "code",
   "execution_count": 12,
   "metadata": {},
   "outputs": [
    {
     "data": {
      "text/plain": [
       "[('George', 'Hamilton', 'Mercedes'),\n",
       " ('Charles', 'Russell', 'Mercedes'),\n",
       " ('Max', 'Leclerc', 'Ferrari'),\n",
       " ('Nicholas', 'Verstappen', 'Red Bull (Boo)')]"
      ]
     },
     "execution_count": 12,
     "metadata": {},
     "output_type": "execute_result"
    }
   ],
   "source": [
    "# With longest=False, Latifi has disappeared.\n",
    "\n",
    "driver_first_names = ['Lewis (GOAT)','George','Charles','Max','Nicholas']\n",
    "driver_last_names = ['Hamilton','Russell','Leclerc','Verstappen','Latifi']\n",
    "team_names = ['Mercedes', 'Mercedes','Ferrari','Red Bull (Boo)']\n",
    "\n",
    "list(more_it.zip_offset(driver_first_names,driver_last_names,team_names, offsets=(1,0,0),longest=False))"
   ]
  },
  {
   "cell_type": "code",
   "execution_count": 13,
   "metadata": {},
   "outputs": [
    {
     "data": {
      "text/plain": [
       "[('Lewis (GOAT)', 'Russell', 'Mercedes'),\n",
       " ('George', 'Leclerc', 'Mercedes'),\n",
       " ('Charles', 'Verstappen', 'Ferrari'),\n",
       " ('Max', 'Latifi', 'Red Bull (Boo)'),\n",
       " ('Nicholas', None, None)]"
      ]
     },
     "execution_count": 13,
     "metadata": {},
     "output_type": "execute_result"
    }
   ],
   "source": [
    "driver_first_names = ['Lewis (GOAT)','George','Charles','Max','Nicholas']\n",
    "driver_last_names = ['Hamilton','Russell','Leclerc','Verstappen','Latifi']\n",
    "team_names = ['Mercedes', 'Mercedes','Ferrari','Red Bull (Boo)']\n",
    "\n",
    "list(more_it.zip_offset(driver_first_names,driver_last_names,team_names, offsets=(0,1,0),longest=True))"
   ]
  },
  {
   "cell_type": "markdown",
   "metadata": {},
   "source": [
    "# <a id='toc8_'></a>[`itertools` use scenario #3: Recursive functions](#toc0_)\n",
    "\n",
    "Original source: [Real Python](https://realpython.com/python-itertools/) \n",
    "\n",
    "Wiki on Recurrence relations: [Wiki](https://en.wikipedia.org/wiki/Recurrence_relation)\n",
    "\n",
    "Recurrence relations in math: [LibText Math](https://math.libretexts.org/Bookshelves/Combinatorics_and_Discrete_Mathematics/Applied_Discrete_Structures_(Doerr_and_Levasseur)/08%3A_Recursion_and_Recurrence_Relations/8.03%3A_Recurrence_Relations)\n",
    "\n",
    "**Recurrence relation**: An equation that can be used to predict the _n_th term of a sequence based on a combination of a previous set of terms.\n",
    "\n",
    "## <a id='toc8_1_'></a>[First order recurrence relations](#toc0_)\n",
    "\n",
    "Only the previous term is needed to calculate the next term. The choice of $P$ and $Q$ terms can cover first order recurrence relations.\n",
    "\n",
    "$$\n",
    "  s_n = Ps_{n-1} + Q\n",
    "$$\n",
    "\n",
    "```python\n",
    "    def first_order(p, q, initial_val):\n",
    "        \"\"\"Return sequence defined by s(n) = p * s(n-1) + q.\"\"\"\n",
    "        return it.accumulate(it.repeat(initial_val), lambda s, _: p*s + q)\n",
    "```\n",
    "\n",
    "\n",
    "**Examples**\n",
    "\n",
    "```python\n",
    "    evens = first_order(p=1, q=2, initial_val=0)\n",
    "    >>>> list(next(evens) for _ in range(5))\n",
    "    [0, 2, 4, 6, 8]\n",
    "\n",
    "    alternating_ones = first_order(p=-1, 0, initial_val=1)\n",
    "    >>> list(next(alternating_ones) for _ in range(5))\n",
    "    [1, -1, 1, -1, 1]\n",
    "\n",
    "\n",
    "```\n",
    "\n",
    "## <a id='toc8_2_'></a>[Second order recurrence relations](#toc0_)\n",
    "\n",
    "Two previous terms are needed to calculate the next term\n",
    "\n",
    "$$\n",
    "  s_n = Ps_{n-1} + Qs_{n-2} + R\n",
    "$$\n",
    "\n",
    "```python\n",
    "  def second_order(p, q, r, initial_values):\n",
    "      \"\"\"Return sequence defined by s(n) = p * s(n-1) + q * s(n-2) + r.\"\"\"\n",
    "      intermediate = it.accumulate(\n",
    "          it.repeat(initial_values),\n",
    "          lambda s, _: (s[1], p*s[1] + q*s[0] + r)\n",
    "      )\n",
    "      return map(lambda x: x[0], intermediate)\n",
    "```\n",
    "\n",
    "**Examples**\n",
    "\n",
    "```python\n",
    "  # Fibonacci sequence\n",
    "  fibs = second_order(p=1, q=1, r=0, initial_values=(0, 1))\n",
    "  >>> list(next(fibs) for _ in range(8))\n",
    "  [0, 1, 1, 2, 3, 5, 8, 13]\n",
    "```\n",
    "\n",
    "**We will revisit recurrence relations in exercises!**"
   ]
  },
  {
   "cell_type": "markdown",
   "metadata": {},
   "source": [
    "# <a id='toc9_'></a>[`itertools` use scenario #4: Combining Data](#toc0_)"
   ]
  },
  {
   "cell_type": "markdown",
   "metadata": {},
   "source": [
    "## <a id='toc9_1_'></a>[`more_itertools.collapse()`](#toc0_)\n",
    "\n",
    "Flattens all levels of nesting.\n",
    "\n",
    "`more_itertools.flatten()`: Will automatically flatten to only one .\n",
    "\n",
    "**Note**: You can specify levels of flattening."
   ]
  },
  {
   "cell_type": "code",
   "execution_count": 14,
   "metadata": {},
   "outputs": [
    {
     "data": {
      "text/plain": [
       "[1, 2, 3, 4, 5, 6]"
      ]
     },
     "execution_count": 14,
     "metadata": {},
     "output_type": "execute_result"
    }
   ],
   "source": [
    "multi_level_nesting = [(1, 2), ([3, 4], [[5], [6]])]\n",
    "list(more_it.collapse(multi_level_nesting))"
   ]
  },
  {
   "cell_type": "code",
   "execution_count": 15,
   "metadata": {},
   "outputs": [
    {
     "data": {
      "text/plain": [
       "[1, 2, [3, 4], [[5], [6]]]"
      ]
     },
     "execution_count": 15,
     "metadata": {},
     "output_type": "execute_result"
    }
   ],
   "source": [
    "multi_level_nesting = [(1, 2), ([3, 4], [[5], [6]])]\n",
    "list(more_it.flatten(multi_level_nesting))"
   ]
  },
  {
   "cell_type": "code",
   "execution_count": 16,
   "metadata": {},
   "outputs": [
    {
     "data": {
      "text/plain": [
       "[1, 2, [3, 4], [[5], [6]]]"
      ]
     },
     "execution_count": 16,
     "metadata": {},
     "output_type": "execute_result"
    }
   ],
   "source": [
    "multi_level_nesting = [(1, 2), ([3, 4], [[5], [6]])]\n",
    "list(more_it.collapse(multi_level_nesting,levels=1))"
   ]
  },
  {
   "cell_type": "code",
   "execution_count": 17,
   "metadata": {},
   "outputs": [
    {
     "data": {
      "text/plain": [
       "[1, 2, 3, 4, [5], [6]]"
      ]
     },
     "execution_count": 17,
     "metadata": {},
     "output_type": "execute_result"
    }
   ],
   "source": [
    "multi_level_nesting = [(1, 2), ([3, 4], [[5], [6]])]\n",
    "list(more_it.collapse(multi_level_nesting,levels=2))"
   ]
  },
  {
   "cell_type": "markdown",
   "metadata": {},
   "source": [
    "# <a id='toc10_'></a>[`itertools` use scenario #5: Grouping Data](#toc0_)"
   ]
  },
  {
   "cell_type": "markdown",
   "metadata": {},
   "source": [
    "## <a id='toc10_1_'></a>[`itertools.groupby()`](#toc0_)\n",
    "\n",
    "Returns consecutive keys and groups from iterable.\n",
    "\n",
    "Generates a break or a new group every time the value of key function changes. You _may_ want to sort the data first.\n",
    "\n",
    "```\n",
    "    [k for k, g in groupby('AAAABBBCCDAABBB')] --> A B C D A B\n",
    "    [list(g) for k, g in groupby('AAAABBBCCD')] --> AAAA BBB CC D\n",
    "```\n",
    "\n",
    "_Scenario_: Find anagrams in list. ([SO post](https://stackoverflow.com/questions/8181513/finding-and-grouping-anagrams-by-python))"
   ]
  },
  {
   "cell_type": "code",
   "execution_count": 18,
   "metadata": {},
   "outputs": [
    {
     "name": "stdout",
     "output_type": "stream",
     "text": [
      "---- The dataset ACTUALLY used in the groupby (Note the changes in the locations of the entries) ----\n",
      "['abc', 'cab', 'cafe', 'face', 'goo']\n",
      "\n",
      "----------------------------------------------\n",
      "\n",
      "----- Results from the groupby operation ----\n",
      "[['abc', 'cab'], ['cafe', 'face'], ['goo']]\n"
     ]
    }
   ],
   "source": [
    "# anagram problem\n",
    "\n",
    "words = ['abc', 'cab', 'cafe', 'goo', 'face']\n",
    "\n",
    "groups = []\n",
    "uniquekeys = []\n",
    "keyfunc = sorted\n",
    "data = sorted(words, key=keyfunc)\n",
    "for k, g in it.groupby(data, keyfunc):\n",
    "    groups.append(list(g))      # Store group iterator as a list\n",
    "    uniquekeys.append(k)\n",
    "\n",
    "\n",
    "print(\"---- The dataset ACTUALLY used in the groupby (Note the changes in the locations of the entries) ----\")\n",
    "pprint.pprint(data)\n",
    "\n",
    "print(\"\\n----------------------------------------------\\n\")\n",
    "print(\"----- Results from the groupby operation ----\")\n",
    "pprint.pprint(groups)"
   ]
  },
  {
   "cell_type": "code",
   "execution_count": 19,
   "metadata": {},
   "outputs": [
    {
     "data": {
      "text/plain": [
       "['abc', 'cab', 'cafe', 'face', 'goo']"
      ]
     },
     "execution_count": 19,
     "metadata": {},
     "output_type": "execute_result"
    }
   ],
   "source": [
    "(sorted(words,key=sorted))"
   ]
  },
  {
   "cell_type": "code",
   "execution_count": 20,
   "metadata": {},
   "outputs": [
    {
     "data": {
      "text/plain": [
       "[(['a', 'b', 'c'], <itertools._grouper at 0x7ff5033da5e0>),\n",
       " (['a', 'c', 'e', 'f'], <itertools._grouper at 0x7ff5033da4c0>),\n",
       " (['g', 'o', 'o'], <itertools._grouper at 0x7ff5033da580>)]"
      ]
     },
     "execution_count": 20,
     "metadata": {},
     "output_type": "execute_result"
    }
   ],
   "source": [
    "list(it.groupby(sorted(words,key=sorted),sorted))"
   ]
  },
  {
   "attachments": {},
   "cell_type": "markdown",
   "metadata": {},
   "source": [
    "_Scenario_: Sort the sequence of words by length."
   ]
  },
  {
   "cell_type": "code",
   "execution_count": 21,
   "metadata": {},
   "outputs": [],
   "source": [
    "# Source: https://www.thoughtco.com/longest-german-word-in-the-world-4061494 Please don't ask me to spell these words. Also, I apologize profusely in advance to all German friends.\n",
    "# Es tut mir sehr leid\n",
    "\n",
    "super_long_german_word_list = [\n",
    "    'Rindfleischetikettierungsüberwachungsaufgabenübertragungsgesdog', # Seriously, why did I pick German out of all languages? Modified last letters to dog.\n",
    "    'Betäubungsmittelverschreibungsverordnung', # regulation requiring a prescription for an anesthetic.\n",
    "    'Bezirksschornsteinfegermeister', # head district chimney sweep\n",
    "    'Dlektrizitätendasshauptbetriebswerkbauuntermysaurkrautneedsimproving',\n",
    "    'Donaudampfschiffahrtselektrizitätenhauptbetriebswerkbauunterbeamtengesellschaft', # association of subordinate officials of the head office management of the Danube steamboat electrical services\n",
    "    'Donaudampfschifffahrtsgesellschaftskapitän', # Danube steamship company captain\n",
    "    'Rechtsschutzversicherungsgesellschaften', # legal protection insurance companies\n",
    "    'Bezirksschornsteinfegermeiscat', # Sorry German friends, I just added cat to the end. I'm poor.\n",
    "    'Rindfleischetikettierungsüberwachungsaufgabenübertragungsgesetz' # beef labeling regulation and delegation of supervision law\n",
    "    'siebentausendzweihundertvierundfünfzig', # 7,254 in German - Are you kidding me??\n",
    "    'BezirksschornsteinfegeMercedes' # I swear, I root for Mercedes Formula 1 team. Sorry Germany!\n",
    "]"
   ]
  },
  {
   "cell_type": "code",
   "execution_count": 22,
   "metadata": {},
   "outputs": [
    {
     "name": "stdout",
     "output_type": "stream",
     "text": [
      "---- The dataset ACTUALLY used in the groupby ----\n",
      "['Bezirksschornsteinfegermeister',\n",
      " 'Bezirksschornsteinfegermeiscat',\n",
      " 'BezirksschornsteinfegeMercedes',\n",
      " 'Rechtsschutzversicherungsgesellschaften',\n",
      " 'Betäubungsmittelverschreibungsverordnung',\n",
      " 'Donaudampfschifffahrtsgesellschaftskapitän',\n",
      " 'Rindfleischetikettierungsüberwachungsaufgabenübertragungsgesdog',\n",
      " 'Dlektrizitätendasshauptbetriebswerkbauuntermysaurkrautneedsimproving',\n",
      " 'Donaudampfschiffahrtselektrizitätenhauptbetriebswerkbauunterbeamtengesellschaft',\n",
      " 'Rindfleischetikettierungsüberwachungsaufgabenübertragungsgesetzsiebentausendzweihundertvierundfünfzig']\n",
      "\n",
      "----------------------------------------------\n",
      "\n",
      "----- Results from the groupby operation ----\n",
      "[['Bezirksschornsteinfegermeister',\n",
      "  'Bezirksschornsteinfegermeiscat',\n",
      "  'BezirksschornsteinfegeMercedes'],\n",
      " ['Rechtsschutzversicherungsgesellschaften'],\n",
      " ['Betäubungsmittelverschreibungsverordnung'],\n",
      " ['Donaudampfschifffahrtsgesellschaftskapitän'],\n",
      " ['Rindfleischetikettierungsüberwachungsaufgabenübertragungsgesdog'],\n",
      " ['Dlektrizitätendasshauptbetriebswerkbauuntermysaurkrautneedsimproving'],\n",
      " ['Donaudampfschiffahrtselektrizitätenhauptbetriebswerkbauunterbeamtengesellschaft'],\n",
      " ['Rindfleischetikettierungsüberwachungsaufgabenübertragungsgesetzsiebentausendzweihundertvierundfünfzig']]\n"
     ]
    }
   ],
   "source": [
    "groups = []\n",
    "uniquekeys = []\n",
    "# sorting first by length\n",
    "keyfunc=len\n",
    "data = sorted(super_long_german_word_list, key=keyfunc)\n",
    "for k, g in it.groupby(data, keyfunc):\n",
    "    groups.append(list(g))      # Store group iterator as a list\n",
    "    uniquekeys.append(k)\n",
    "\n",
    "print(\"---- The dataset ACTUALLY used in the groupby ----\")\n",
    "pprint.pprint(data)\n",
    "\n",
    "print(\"\\n----------------------------------------------\\n\")\n",
    "print(\"----- Results from the groupby operation ----\")\n",
    "pprint.pprint(groups)"
   ]
  },
  {
   "cell_type": "markdown",
   "metadata": {},
   "source": [
    "## <a id='toc10_2_'></a>[`more_itertools.grouper()`](#toc0_)\n",
    "\n",
    "Group elements from iterable into fixed-length groups of length n.\n",
    "\n",
    "`more_itertools.chunked`: Doesn't allow to use a fill-in value.\n",
    "\n",
    "\n",
    "_Scenario_: You want to split records into multiples of _n_."
   ]
  },
  {
   "cell_type": "code",
   "execution_count": 23,
   "metadata": {},
   "outputs": [
    {
     "data": {
      "text/plain": [
       "[('A', 'B', 'C'), ('D', 'E', 'F')]"
      ]
     },
     "execution_count": 23,
     "metadata": {},
     "output_type": "execute_result"
    }
   ],
   "source": [
    "list(more_it.grouper('ABCDEF', 3))"
   ]
  },
  {
   "cell_type": "code",
   "execution_count": 24,
   "metadata": {},
   "outputs": [
    {
     "data": {
      "text/plain": [
       "[('A', 'B', 'C'), ('D', 'E', 'F'), ('G', 'x', 'x')]"
      ]
     },
     "execution_count": 24,
     "metadata": {},
     "output_type": "execute_result"
    }
   ],
   "source": [
    "list(more_it.grouper('ABCDEFG', 3, incomplete='fill', fillvalue='x'))"
   ]
  },
  {
   "cell_type": "code",
   "execution_count": 25,
   "metadata": {},
   "outputs": [
    {
     "data": {
      "text/plain": [
       "[[1, 2, 3], [4, 5, 6], [7, 8]]"
      ]
     },
     "execution_count": 25,
     "metadata": {},
     "output_type": "execute_result"
    }
   ],
   "source": [
    "# Note how chunked returns only 2 elements in last group.\n",
    "list(more_it.chunked([1, 2, 3, 4, 5, 6, 7, 8], 3))"
   ]
  },
  {
   "cell_type": "code",
   "execution_count": 26,
   "metadata": {},
   "outputs": [
    {
     "data": {
      "text/plain": [
       "[(1, 2, 3), (4, 5, 6), (7, 8, None)]"
      ]
     },
     "execution_count": 26,
     "metadata": {},
     "output_type": "execute_result"
    }
   ],
   "source": [
    "# With grouper, you get a fill value.\n",
    "list(more_it.grouper([1, 2, 3, 4, 5, 6, 7, 8], 3))"
   ]
  },
  {
   "cell_type": "markdown",
   "metadata": {},
   "source": [
    "# <a id='toc11_'></a>[`itertools` use scenario #6: Combinatorics](#toc0_)"
   ]
  },
  {
   "cell_type": "markdown",
   "metadata": {},
   "source": [
    "## <a id='toc11_1_'></a>[`itertools.permutations()`](#toc0_)\n",
    "\n",
    "_Scenario_: Well... _permutations_ and _combinations."
   ]
  },
  {
   "cell_type": "code",
   "execution_count": 27,
   "metadata": {},
   "outputs": [
    {
     "data": {
      "text/plain": [
       "[('Red Bull', 'Ferrari', 'Mercedes'),\n",
       " ('Red Bull', 'Ferrari', 'Aston Martin'),\n",
       " ('Red Bull', 'Mercedes', 'Ferrari'),\n",
       " ('Red Bull', 'Mercedes', 'Aston Martin'),\n",
       " ('Red Bull', 'Aston Martin', 'Ferrari'),\n",
       " ('Red Bull', 'Aston Martin', 'Mercedes'),\n",
       " ('Ferrari', 'Red Bull', 'Mercedes'),\n",
       " ('Ferrari', 'Red Bull', 'Aston Martin'),\n",
       " ('Ferrari', 'Mercedes', 'Red Bull'),\n",
       " ('Ferrari', 'Mercedes', 'Aston Martin'),\n",
       " ('Ferrari', 'Aston Martin', 'Red Bull'),\n",
       " ('Ferrari', 'Aston Martin', 'Mercedes'),\n",
       " ('Mercedes', 'Red Bull', 'Ferrari'),\n",
       " ('Mercedes', 'Red Bull', 'Aston Martin'),\n",
       " ('Mercedes', 'Ferrari', 'Red Bull'),\n",
       " ('Mercedes', 'Ferrari', 'Aston Martin'),\n",
       " ('Mercedes', 'Aston Martin', 'Red Bull'),\n",
       " ('Mercedes', 'Aston Martin', 'Ferrari'),\n",
       " ('Aston Martin', 'Red Bull', 'Ferrari'),\n",
       " ('Aston Martin', 'Red Bull', 'Mercedes'),\n",
       " ('Aston Martin', 'Ferrari', 'Red Bull'),\n",
       " ('Aston Martin', 'Ferrari', 'Mercedes'),\n",
       " ('Aston Martin', 'Mercedes', 'Red Bull'),\n",
       " ('Aston Martin', 'Mercedes', 'Ferrari')]"
      ]
     },
     "execution_count": 27,
     "metadata": {},
     "output_type": "execute_result"
    }
   ],
   "source": [
    "list(it.permutations(('Red Bull','Ferrari','Mercedes','Aston Martin'),3))"
   ]
  },
  {
   "cell_type": "markdown",
   "metadata": {},
   "source": [
    "## <a id='toc11_2_'></a>[`itertools.combinations()`](#toc0_)"
   ]
  },
  {
   "cell_type": "code",
   "execution_count": 28,
   "metadata": {},
   "outputs": [
    {
     "data": {
      "text/plain": [
       "[('Red Bull', 'Ferrari', 'Mercedes'),\n",
       " ('Red Bull', 'Ferrari', 'Aston Martin'),\n",
       " ('Red Bull', 'Mercedes', 'Aston Martin'),\n",
       " ('Ferrari', 'Mercedes', 'Aston Martin')]"
      ]
     },
     "execution_count": 28,
     "metadata": {},
     "output_type": "execute_result"
    }
   ],
   "source": [
    "list(it.combinations(('Red Bull','Ferrari','Mercedes','Aston Martin'),3))"
   ]
  },
  {
   "cell_type": "markdown",
   "metadata": {},
   "source": [
    "## <a id='toc11_3_'></a>[`itertools.product()`](#toc0_)\n",
    "\n",
    "Cartesian product of input iterables.\n",
    "\n",
    "Roughly equivalent to nested for-loops in a generator expression. For example, `product(A, B)` returns the same as `((x,y) for x in A for y in B)`.\n",
    "\n",
    "The nested loops cycle like an odometer with the rightmost element advancing on every iteration. "
   ]
  },
  {
   "cell_type": "code",
   "execution_count": 29,
   "metadata": {},
   "outputs": [
    {
     "data": {
      "text/plain": [
       "[('A', '1'),\n",
       " ('A', '2'),\n",
       " ('A', '3'),\n",
       " ('A', '4'),\n",
       " ('B', '1'),\n",
       " ('B', '2'),\n",
       " ('B', '3'),\n",
       " ('B', '4'),\n",
       " ('C', '1'),\n",
       " ('C', '2'),\n",
       " ('C', '3'),\n",
       " ('C', '4')]"
      ]
     },
     "execution_count": 29,
     "metadata": {},
     "output_type": "execute_result"
    }
   ],
   "source": [
    "list(it.product('ABC','1234',))"
   ]
  },
  {
   "cell_type": "markdown",
   "metadata": {},
   "source": [
    "# <a id='toc12_'></a>[`itertools` use scenario #7: Indexing](#toc0_)"
   ]
  },
  {
   "cell_type": "markdown",
   "metadata": {},
   "source": [
    "## <a id='toc12_1_'></a>[`more_itertools.locate()`](#toc0_)\n",
    "\n",
    "_Scenario_: Find Waldo."
   ]
  },
  {
   "cell_type": "code",
   "execution_count": 30,
   "metadata": {},
   "outputs": [
    {
     "name": "stdout",
     "output_type": "stream",
     "text": [
      "--- Case 1: Sentence case\n",
      "[4]\n",
      "\n",
      "-------------------------------------------------------\n",
      "\n",
      "--- Case 2: Lower case\n"
     ]
    },
    {
     "data": {
      "text/plain": [
       "[4, 8]"
      ]
     },
     "execution_count": 30,
     "metadata": {},
     "output_type": "execute_result"
    }
   ],
   "source": [
    "waldo_string = ['Where','On','Earth','Is','Waldo','These','Days?','Seriously?','waldo']\n",
    "\n",
    "print(\"--- Case 1: Sentence case\")\n",
    "\n",
    "print(list(more_it.locate(waldo_string, lambda x: x == 'Waldo')))\n",
    "\n",
    "\n",
    "print(\"\\n-------------------------------------------------------\\n\")\n",
    "\n",
    "print(\"--- Case 2: Lower case\")\n",
    "\n",
    "list(more_it.locate(waldo_string, lambda x: x.lower() == 'waldo'))"
   ]
  },
  {
   "cell_type": "markdown",
   "metadata": {},
   "source": [
    "## <a id='toc12_2_'></a>[`itertools.islice()`](#toc0_)\n",
    "\n",
    "An iterator that returns an nth element.\n",
    "\n",
    "Note: Does not support negative values for _start_,_stop_,_step_."
   ]
  },
  {
   "cell_type": "code",
   "execution_count": 31,
   "metadata": {},
   "outputs": [],
   "source": [
    "prez_list = [\n",
    "    'FDR','William Hery Harrison','Thomas Jefferson','James Garfield','James Madison','Zachary Taylor','James Monroe','Warren G. Harding'\n",
    "]"
   ]
  },
  {
   "attachments": {},
   "cell_type": "markdown",
   "metadata": {},
   "source": [
    "_Scenario_: Separate the longest standing Presidents by term length."
   ]
  },
  {
   "cell_type": "code",
   "execution_count": 32,
   "metadata": {},
   "outputs": [
    {
     "data": {
      "text/plain": [
       "['FDR', 'Thomas Jefferson', 'James Madison', 'James Monroe']"
      ]
     },
     "execution_count": 32,
     "metadata": {},
     "output_type": "execute_result"
    }
   ],
   "source": [
    "list(it.islice(prez_list,0,None,2))"
   ]
  },
  {
   "cell_type": "code",
   "execution_count": 33,
   "metadata": {},
   "outputs": [
    {
     "data": {
      "text/plain": [
       "['William Hery Harrison',\n",
       " 'James Garfield',\n",
       " 'Zachary Taylor',\n",
       " 'Warren G. Harding']"
      ]
     },
     "execution_count": 33,
     "metadata": {},
     "output_type": "execute_result"
    }
   ],
   "source": [
    "list(it.islice(prez_list,1,None,2))"
   ]
  },
  {
   "cell_type": "markdown",
   "metadata": {},
   "source": [
    "# <a id='toc13_'></a>[`itertools` use scenario #8: Filtering Data](#toc0_)"
   ]
  },
  {
   "cell_type": "markdown",
   "metadata": {},
   "source": [
    "## <a id='toc13_1_'></a>[`itertools.compress()`](#toc0_)\n",
    "\n",
    "Combine an iterable and a boolean selector. Returns corresponding elements where boolean is `True`.\n",
    "\n",
    "_Scenario_: Using the `mpg` dataset, locate the model name and production year for all cars meeting an efficiency threshold of 40 mpg."
   ]
  },
  {
   "cell_type": "code",
   "execution_count": 34,
   "metadata": {},
   "outputs": [
    {
     "data": {
      "text/html": [
       "<div>\n",
       "<style scoped>\n",
       "    .dataframe tbody tr th:only-of-type {\n",
       "        vertical-align: middle;\n",
       "    }\n",
       "\n",
       "    .dataframe tbody tr th {\n",
       "        vertical-align: top;\n",
       "    }\n",
       "\n",
       "    .dataframe thead th {\n",
       "        text-align: right;\n",
       "    }\n",
       "</style>\n",
       "<table border=\"1\" class=\"dataframe\">\n",
       "  <thead>\n",
       "    <tr style=\"text-align: right;\">\n",
       "      <th></th>\n",
       "      <th>mpg</th>\n",
       "      <th>cylinders</th>\n",
       "      <th>displacement</th>\n",
       "      <th>horsepower</th>\n",
       "      <th>weight</th>\n",
       "      <th>acceleration</th>\n",
       "      <th>model_year</th>\n",
       "      <th>origin</th>\n",
       "      <th>name</th>\n",
       "    </tr>\n",
       "  </thead>\n",
       "  <tbody>\n",
       "    <tr>\n",
       "      <th>0</th>\n",
       "      <td>18.0</td>\n",
       "      <td>8</td>\n",
       "      <td>307.0</td>\n",
       "      <td>130.0</td>\n",
       "      <td>3504</td>\n",
       "      <td>12.0</td>\n",
       "      <td>70</td>\n",
       "      <td>usa</td>\n",
       "      <td>chevrolet chevelle malibu</td>\n",
       "    </tr>\n",
       "    <tr>\n",
       "      <th>1</th>\n",
       "      <td>15.0</td>\n",
       "      <td>8</td>\n",
       "      <td>350.0</td>\n",
       "      <td>165.0</td>\n",
       "      <td>3693</td>\n",
       "      <td>11.5</td>\n",
       "      <td>70</td>\n",
       "      <td>usa</td>\n",
       "      <td>buick skylark 320</td>\n",
       "    </tr>\n",
       "    <tr>\n",
       "      <th>2</th>\n",
       "      <td>18.0</td>\n",
       "      <td>8</td>\n",
       "      <td>318.0</td>\n",
       "      <td>150.0</td>\n",
       "      <td>3436</td>\n",
       "      <td>11.0</td>\n",
       "      <td>70</td>\n",
       "      <td>usa</td>\n",
       "      <td>plymouth satellite</td>\n",
       "    </tr>\n",
       "    <tr>\n",
       "      <th>3</th>\n",
       "      <td>16.0</td>\n",
       "      <td>8</td>\n",
       "      <td>304.0</td>\n",
       "      <td>150.0</td>\n",
       "      <td>3433</td>\n",
       "      <td>12.0</td>\n",
       "      <td>70</td>\n",
       "      <td>usa</td>\n",
       "      <td>amc rebel sst</td>\n",
       "    </tr>\n",
       "    <tr>\n",
       "      <th>4</th>\n",
       "      <td>17.0</td>\n",
       "      <td>8</td>\n",
       "      <td>302.0</td>\n",
       "      <td>140.0</td>\n",
       "      <td>3449</td>\n",
       "      <td>10.5</td>\n",
       "      <td>70</td>\n",
       "      <td>usa</td>\n",
       "      <td>ford torino</td>\n",
       "    </tr>\n",
       "  </tbody>\n",
       "</table>\n",
       "</div>"
      ],
      "text/plain": [
       "    mpg  cylinders  displacement  horsepower  weight  acceleration  \\\n",
       "0  18.0          8         307.0       130.0    3504          12.0   \n",
       "1  15.0          8         350.0       165.0    3693          11.5   \n",
       "2  18.0          8         318.0       150.0    3436          11.0   \n",
       "3  16.0          8         304.0       150.0    3433          12.0   \n",
       "4  17.0          8         302.0       140.0    3449          10.5   \n",
       "\n",
       "   model_year origin                       name  \n",
       "0          70    usa  chevrolet chevelle malibu  \n",
       "1          70    usa          buick skylark 320  \n",
       "2          70    usa         plymouth satellite  \n",
       "3          70    usa              amc rebel sst  \n",
       "4          70    usa                ford torino  "
      ]
     },
     "execution_count": 34,
     "metadata": {},
     "output_type": "execute_result"
    }
   ],
   "source": [
    "df_mpg = sns.load_dataset('mpg')\n",
    "\n",
    "df_mpg.head()\n"
   ]
  },
  {
   "cell_type": "code",
   "execution_count": 35,
   "metadata": {},
   "outputs": [
    {
     "name": "stdout",
     "output_type": "stream",
     "text": [
      "[(78, 'volkswagen rabbit custom diesel'), (80, 'vw rabbit'), (80, 'mazda glc'), (80, 'datsun 210'), (80, 'vw rabbit c (diesel)'), (80, 'vw dasher (diesel)'), (80, 'honda civic 1500 gl'), (80, 'renault lecar deluxe'), (82, 'vw pickup')]\n"
     ]
    }
   ],
   "source": [
    "# Implement the threshold criterion\n",
    "efficiency_threshold = 40\n",
    "matching_cars = [n > efficiency_threshold for n in df_mpg['mpg']]\n",
    "\n",
    "# Return the compressed iterator For demonstration, we are zipping multiple iterables\n",
    "matching_cars_iter = it.compress(list(zip(df_mpg['model_year'], df_mpg['name'])),matching_cars)\n",
    "\n",
    "# Consume the iterator\n",
    "print(list(matching_cars_iter))"
   ]
  },
  {
   "cell_type": "markdown",
   "metadata": {},
   "source": [
    "## <a id='toc13_2_'></a>[`more_itertools.filter_except()`](#toc0_)\n",
    "\n",
    "Yield the items from iterable for which the validator function does not raise one of the specified exceptions.\n",
    "\n",
    "validator is called for each item in iterable. It should be a function that accepts one argument and raises an exception if that item is not valid.\n",
    "\n",
    "_Scenario_: You need to get only the numerical values in a dataset with both numbers and strings, all included in a string form."
   ]
  },
  {
   "cell_type": "code",
   "execution_count": 36,
   "metadata": {},
   "outputs": [
    {
     "data": {
      "text/plain": [
       "[28.0, 32.5, 9.0, 3.1415, -1.0]"
      ]
     },
     "execution_count": 36,
     "metadata": {},
     "output_type": "execute_result"
    }
   ],
   "source": [
    "data = ['Bah', 'Bah', '28','32.5','Black Sheep', '9', '3.1415', '-1', 'wool']\n",
    "\n",
    "list(map(float, # This is just to map the output to float\n",
    "         more_it.filter_except(float, data, TypeError, ValueError)))"
   ]
  },
  {
   "attachments": {},
   "cell_type": "markdown",
   "metadata": {},
   "source": [
    "_Scenario_: Locate integers in the dataset."
   ]
  },
  {
   "cell_type": "code",
   "execution_count": 37,
   "metadata": {},
   "outputs": [
    {
     "data": {
      "text/plain": [
       "[28, 9, -1]"
      ]
     },
     "execution_count": 37,
     "metadata": {},
     "output_type": "execute_result"
    }
   ],
   "source": [
    "list(map(int, # This is just to map the output to int. \n",
    "         more_it.filter_except(int, data, TypeError, ValueError)))"
   ]
  },
  {
   "attachments": {},
   "cell_type": "markdown",
   "metadata": {},
   "source": [
    "_Scenario_: Assign `None` to all cases where a number is detected.\n",
    "\n",
    "\n",
    "**After-discussion fire-side chat:** How can we construct a `validator` that will help us isolate strings?\n",
    "\n",
    "```python\n",
    "\n",
    "def filter_except(validator, iterable, *exceptions):\n",
    "    \"\"\"Yield the items from *iterable* for which the *validator* function does\n",
    "    not raise one of the specified *exceptions*.\n",
    "\n",
    "    *validator* is called for each item in *iterable*.\n",
    "    It should be a function that accepts one argument and raises an exception\n",
    "    if that item is not valid.\n",
    "\n",
    "    >>> iterable = ['1', '2', 'three', '4', None]\n",
    "    >>> list(filter_except(int, iterable, ValueError, TypeError))\n",
    "    ['1', '2', '4']\n",
    "\n",
    "    If an exception other than one given by *exceptions* is raised by\n",
    "    *validator*, it is raised like normal.\n",
    "    \"\"\"\n",
    "    for item in iterable:\n",
    "        try:\n",
    "            validator(item)\n",
    "        except exceptions:\n",
    "            pass\n",
    "        else:\n",
    "            yield item\n",
    "\n",
    "```"
   ]
  },
  {
   "cell_type": "code",
   "execution_count": 38,
   "metadata": {},
   "outputs": [
    {
     "data": {
      "text/plain": [
       "['Bah', 'Bah', None, None, 'Black Sheep', None, None, None, 'wool']"
      ]
     },
     "execution_count": 38,
     "metadata": {},
     "output_type": "execute_result"
    }
   ],
   "source": [
    "def is_number(n):\n",
    "    # SO: https://stackoverflow.com/questions/354038/how-do-i-check-if-a-string-represents-a-number-float-or-int\n",
    "    try:\n",
    "        float(n)   # Type-casting the string to `float`.\n",
    "                   # If string is not a valid `float`, \n",
    "                   # it'll raise `ValueError` exception\n",
    "    except ValueError:\n",
    "        return False\n",
    "    return True\n",
    "\n",
    "\n",
    "list(more_it.map_if(\n",
    "    data, \n",
    "    lambda x: is_number(x), # What to check for the if condition\n",
    "    lambda x: None # What to do in the exception\n",
    "    ))\n"
   ]
  },
  {
   "attachments": {},
   "cell_type": "markdown",
   "metadata": {},
   "source": [
    "_Scenario_: Locate the indices of the non-numeric numbers"
   ]
  },
  {
   "cell_type": "code",
   "execution_count": 39,
   "metadata": {},
   "outputs": [
    {
     "data": {
      "text/plain": [
       "['Bah', 'Bah', 'Black Sheep', 'wool']"
      ]
     },
     "execution_count": 39,
     "metadata": {},
     "output_type": "execute_result"
    }
   ],
   "source": [
    "string_indices = list(more_it.locate(data, lambda x: not is_number(x)))\n",
    "\n",
    "[data[n] for n in string_indices]"
   ]
  },
  {
   "cell_type": "markdown",
   "metadata": {},
   "source": [
    "# <a id='toc14_'></a>[`itertools` scenario #9: Summarizing data](#toc0_)"
   ]
  },
  {
   "cell_type": "markdown",
   "metadata": {},
   "source": [
    "## <a id='toc14_1_'></a>[`more_itertools.map_reduce()`](#toc0_)\n",
    "\n",
    "\n",
    "Return a dictionary that maps the items in iterable to categories defined by keyfunc, transforms them with valuefunc, and then summarizes them by category with reducefunc."
   ]
  },
  {
   "cell_type": "markdown",
   "metadata": {},
   "source": [
    "### <a id='toc14_1_1_'></a>[The strangeness of `pi`](#toc0_)\n",
    "\n",
    "How are the digits of pi distributed in the first 1,000,000 decimal places?\n",
    "\n",
    "Original Sources:\n",
    "- Stack Overflow [URL](https://stackoverflow.com/questions/9004789/1000-digits-of-pi-in-python)\n",
    "- Spigots Algorithm [URL](https://www.cs.ox.ac.uk/people/jeremy.gibbons/publications/spigot.pdf)\n",
    "\n",
    "\n",
    "```python\n",
    "    DIGITS = 1000\n",
    "\n",
    "    def pi_digits(x):\n",
    "        \"\"\"Generate x digits of Pi.\"\"\"\n",
    "        k,a,b,a1,b1 = 2,4,1,12,4\n",
    "        while x > 0:\n",
    "            p,q,k = k * k, 2 * k + 1, k + 1\n",
    "            a,b,a1,b1 = a1, b1, p*a + q*a1, p*b + q*b1\n",
    "            d,d1 = a/b, a1/b1\n",
    "            while d == d1 and x > 0:\n",
    "                yield int(d)\n",
    "                x -= 1\n",
    "                a,a1 = 10*(a % b), 10*(a1 % b1)\n",
    "                d,d1 = a/b, a1/b1\n",
    "\n",
    "    digits = [str(n) for n in list(pi_digits(DIGITS))]\n",
    "    print(\"%s.%s\\n\" % (digits.pop(0), \"\".join(digits)))\n",
    "\n",
    "```"
   ]
  },
  {
   "cell_type": "code",
   "execution_count": 40,
   "metadata": {},
   "outputs": [
    {
     "data": {
      "text/plain": [
       "defaultdict(None,\n",
       "            {'1': 99757,\n",
       "             '4': 100230,\n",
       "             '5': 100359,\n",
       "             '9': 100106,\n",
       "             '2': 100026,\n",
       "             '6': 99548,\n",
       "             '3': 100229,\n",
       "             '8': 99985,\n",
       "             '7': 99800,\n",
       "             '0': 99959})"
      ]
     },
     "execution_count": 40,
     "metadata": {},
     "output_type": "execute_result"
    }
   ],
   "source": [
    "with open(\"pi_100k.txt\",\"r\") as f:\n",
    "    digits = f.read()\n",
    "\n",
    "\n",
    "keyfunc = lambda x: x\n",
    "valuefunc = lambda x: 1\n",
    "reducefunc = sum\n",
    "result = more_it.map_reduce(digits, keyfunc, valuefunc, reducefunc)\n",
    "\n",
    "result"
   ]
  },
  {
   "cell_type": "markdown",
   "metadata": {},
   "source": [
    "# <a id='toc15_'></a>[`itertools` scenario #10: Splitting Data](#toc0_)"
   ]
  },
  {
   "cell_type": "markdown",
   "metadata": {},
   "source": [
    "## <a id='toc15_1_'></a>[`itertools.takewhile()`](#toc0_)\n",
    "\n",
    "_Scenario_: You have a datastream from a sensor that's streaming numbers. The end of transmission is marked by a letter `e`. "
   ]
  },
  {
   "cell_type": "code",
   "execution_count": 41,
   "metadata": {},
   "outputs": [
    {
     "data": {
      "text/plain": [
       "['1', '2', '3', '4', '5', '6']"
      ]
     },
     "execution_count": 41,
     "metadata": {},
     "output_type": "execute_result"
    }
   ],
   "source": [
    "list(it.takewhile(lambda x: x.isdigit(),'123456e'))"
   ]
  },
  {
   "cell_type": "code",
   "execution_count": 42,
   "metadata": {},
   "outputs": [
    {
     "data": {
      "text/plain": [
       "[0, 1, 2, 3, 4, 5]"
      ]
     },
     "execution_count": 42,
     "metadata": {},
     "output_type": "execute_result"
    }
   ],
   "source": [
    "list(more_it.locate(it.takewhile(lambda x: x.isdigit(),'123456e')))"
   ]
  },
  {
   "cell_type": "markdown",
   "metadata": {},
   "source": [
    "### <a id='toc15_1_1_'></a>[Getting the `index` of the entry](#toc0_)\n",
    "\n",
    "_Scenario_: You need to find the last element that meets a threshold value."
   ]
  },
  {
   "cell_type": "code",
   "execution_count": 43,
   "metadata": {},
   "outputs": [
    {
     "data": {
      "text/plain": [
       "6"
      ]
     },
     "execution_count": 43,
     "metadata": {},
     "output_type": "execute_result"
    }
   ],
   "source": [
    "sum(1 for _ in it.takewhile(lambda x: x.isdigit(),'123456e'))"
   ]
  },
  {
   "cell_type": "code",
   "execution_count": 44,
   "metadata": {},
   "outputs": [
    {
     "data": {
      "text/plain": [
       "[0, 1, 2, 3, 4, 5]"
      ]
     },
     "execution_count": 44,
     "metadata": {},
     "output_type": "execute_result"
    }
   ],
   "source": [
    "list(more_it.locate(it.takewhile(lambda x: x.isdigit(),'123456e')))"
   ]
  },
  {
   "cell_type": "markdown",
   "metadata": {},
   "source": [
    "## <a id='toc15_2_'></a>[`more_itertools.map_except()`](#toc0_)"
   ]
  },
  {
   "cell_type": "markdown",
   "metadata": {},
   "source": [
    "_Scenario_: You have an instrument that tags a letter `s` to indicate a start, and a letter `e` to indicate the end of a transmission.\n",
    "\n",
    "We can _combine_ multiple libraries!"
   ]
  },
  {
   "cell_type": "code",
   "execution_count": 45,
   "metadata": {},
   "outputs": [
    {
     "data": {
      "text/plain": [
       "['3',\n",
       " '2',\n",
       " '1',\n",
       " '3',\n",
       " '1',\n",
       " '2',\n",
       " '7',\n",
       " '8',\n",
       " '4',\n",
       " '6',\n",
       " '9',\n",
       " '2',\n",
       " '1',\n",
       " '8',\n",
       " '3',\n",
       " '4',\n",
       " '2',\n",
       " '8',\n",
       " '9',\n",
       " '1',\n",
       " '2',\n",
       " '3']"
      ]
     },
     "execution_count": 45,
     "metadata": {},
     "output_type": "execute_result"
    }
   ],
   "source": [
    "transmission_string = 's3213127846921834289123e'\n",
    "\n",
    "list(it.compress(transmission_string, more_it.map_except(lambda x: x.isdigit(),transmission_string)))"
   ]
  },
  {
   "cell_type": "code",
   "execution_count": 46,
   "metadata": {},
   "outputs": [
    {
     "data": {
      "text/plain": [
       "[False,\n",
       " True,\n",
       " True,\n",
       " True,\n",
       " True,\n",
       " True,\n",
       " True,\n",
       " True,\n",
       " True,\n",
       " True,\n",
       " True,\n",
       " True,\n",
       " True,\n",
       " True,\n",
       " True,\n",
       " True,\n",
       " True,\n",
       " True,\n",
       " True,\n",
       " True,\n",
       " True,\n",
       " True,\n",
       " True,\n",
       " False]"
      ]
     },
     "execution_count": 46,
     "metadata": {},
     "output_type": "execute_result"
    }
   ],
   "source": [
    "list(more_it.countable(more_it.map_except(lambda x: x.isdigit(),transmission_string)))"
   ]
  },
  {
   "cell_type": "code",
   "execution_count": 47,
   "metadata": {},
   "outputs": [
    {
     "data": {
      "text/plain": [
       "[1, 2, 3, 4, 5, 6, 7, 8, 9, 10, 11, 12, 13, 14, 15, 16, 17, 18, 19, 20, 21, 22]"
      ]
     },
     "execution_count": 47,
     "metadata": {},
     "output_type": "execute_result"
    }
   ],
   "source": [
    "list(more_it.locate(more_it.map_except(lambda x: x.isdigit(),transmission_string)))"
   ]
  },
  {
   "cell_type": "code",
   "execution_count": 48,
   "metadata": {},
   "outputs": [
    {
     "data": {
      "text/plain": [
       "[-1,\n",
       " 1,\n",
       " 2,\n",
       " 3,\n",
       " 4,\n",
       " 5,\n",
       " 6,\n",
       " 7,\n",
       " 8,\n",
       " 9,\n",
       " 10,\n",
       " 11,\n",
       " 12,\n",
       " 13,\n",
       " 14,\n",
       " 15,\n",
       " 16,\n",
       " 17,\n",
       " 18,\n",
       " 19,\n",
       " 20,\n",
       " 21,\n",
       " 22,\n",
       " -1]"
      ]
     },
     "execution_count": 48,
     "metadata": {},
     "output_type": "execute_result"
    }
   ],
   "source": [
    "list(\n",
    "    more_it.map_except(\n",
    "        lambda x: x[1] if x[0].isdigit() else -1,\n",
    "        zip(transmission_string,range(len(transmission_string)))\n",
    "    )\n",
    ")"
   ]
  },
  {
   "cell_type": "code",
   "execution_count": 49,
   "metadata": {},
   "outputs": [
    {
     "data": {
      "text/plain": [
       "[1, 2, 3, 4, 5, 6, 7, 8, 9, 10, 11, 12, 13, 14, 15, 16, 17, 18, 19, 20, 21, 22]"
      ]
     },
     "execution_count": 49,
     "metadata": {},
     "output_type": "execute_result"
    }
   ],
   "source": [
    "list(\n",
    "    it.filterfalse(\n",
    "        lambda x: x < 0,\n",
    "        more_it.map_except(\n",
    "            lambda x: x[1] if x[0].isdigit() else -1,\n",
    "            zip(transmission_string,range(len(transmission_string)))\n",
    "        ),\n",
    "    )\n",
    ")"
   ]
  },
  {
   "cell_type": "markdown",
   "metadata": {},
   "source": [
    "## <a id='toc15_3_'></a>[`moreitertools.partition()`](#toc0_)\n",
    "\n",
    "_Scenario_: You have an instrument that is generating multiple cycles worth of information. The data is written to a text file. \n",
    "You need to separate out the cycles for calculations. Each cycle is separated by a string x\n",
    "\n"
   ]
  },
  {
   "cell_type": "code",
   "execution_count": 50,
   "metadata": {},
   "outputs": [
    {
     "data": {
      "text/plain": [
       "[['2', '1', '3'], ['3', '1', '3', '2'], ['3', '1', '2', '3', '1', '2']]"
      ]
     },
     "execution_count": 50,
     "metadata": {},
     "output_type": "execute_result"
    }
   ],
   "source": [
    "lines = '213x3132x312312'\n",
    "\n",
    "list(more_it.split_at(lines,lambda x: 'x' in x))"
   ]
  },
  {
   "cell_type": "code",
   "execution_count": null,
   "metadata": {},
   "outputs": [],
   "source": []
  }
 ],
 "metadata": {
  "kernelspec": {
   "display_name": "Python 3",
   "language": "python",
   "name": "python3"
  },
  "language_info": {
   "codemirror_mode": {
    "name": "ipython",
    "version": 3
   },
   "file_extension": ".py",
   "mimetype": "text/x-python",
   "name": "python",
   "nbconvert_exporter": "python",
   "pygments_lexer": "ipython3",
   "version": "3.9.16"
  },
  "orig_nbformat": 4
 },
 "nbformat": 4,
 "nbformat_minor": 2
}
