{
 "cells": [
  {
   "cell_type": "code",
   "execution_count": 98,
   "metadata": {},
   "outputs": [
    {
     "name": "stdout",
     "output_type": "stream",
     "text": [
      "The memory_profiler extension is already loaded. To reload it, use:\n",
      "  %reload_ext memory_profiler\n"
     ]
    }
   ],
   "source": [
    "import itertools as it\n",
    "import more_itertools as more_it\n",
    "import seaborn as sns\n",
    "import matplotlib.pyplot as plt\n",
    "\n",
    "%matplotlib inline\n",
    "%load_ext memory_profiler"
   ]
  },
  {
   "attachments": {},
   "cell_type": "markdown",
   "metadata": {
    "slideshow": {
     "slide_type": "slide"
    }
   },
   "source": [
    "# What is an `iterable` in python?\n",
    "\n",
    "Any Python object with a `.__iter__()` or `.__getitem__()` methods is iterable.\n",
    "\n",
    "**E.g. #1:**: `map()` is a built-in operator function that applies `len` to each element in the iterable.\n",
    "\n",
    "```python\n",
    "\n",
    "    >>> list(map(len, ['cat','dogs','wombats']))\n",
    "    [3, 4, 7]\n",
    "\n",
    "```\n",
    "**E.g. #2:**: Iterators are iterable, and can be used to compose _iterator algebra_\n",
    "\n",
    "```python\n",
    "    >>> list(map(math.prod, zip([2.0,3.1,4], [4, 5, 6])))\n",
    "    [8.0, 15.5, 24]\n",
    "\n",
    "```\n",
    "\n",
    "# `itertools` Module\n",
    "\n",
    "- Python's approach to `iterator algebra` \n",
    "- fast, memory-efficient, concise code \n",
    "    - _lazy evaluation_ (call-by-need) delays evaluatio of expression until its value is needed.\n",
    "\n",
    "```python\n",
    "\n",
    "    def itertools_repeat():\n",
    "        for _ in it.repeat(None, 1_000_000):\n",
    "            pass\n",
    "\n",
    "    >>>> %timeit itertools_repeat()\n",
    "        9.4 ms ± 602 µs per loop (mean ± std. dev. of 7 runs, 100 loops each)\n",
    "\n",
    "    def standard_loop():\n",
    "        for _ in range(1_000_000):\n",
    "            pass\n",
    "\n",
    "    >>>> %timeit standard_loop()\n",
    "        20 ms ± 976 µs per loop (mean ± std. dev. of 7 runs, 10 loops each)\n",
    "```\n",
    "\n",
    "# Remarks\n",
    "\n",
    "Refer to the Real Python example on memory efficiency"
   ]
  },
  {
   "attachments": {},
   "cell_type": "markdown",
   "metadata": {},
   "source": [
    "# Function breakdown of `itertools`\n"
   ]
  },
  {
   "attachments": {},
   "cell_type": "markdown",
   "metadata": {},
   "source": [
    "## Infinite iterators\n",
    "\n",
    "| Iterator | Arguments     | Results                                        | Example                               |\n",
    "|----------|---------------|------------------------------------------------|---------------------------------------|\n",
    "| count()  | start, [step] | start, start+step, start+2*step, …             | <mark>`count(10) --> 10 11 12 13 14 ...` </mark>     |\n",
    "| cycle()  | p             | p0, p1, … plast, p0, p1, …                     | <mark> `cycle('ABCD') --> A B C D A B C D ...` </mark> |\n",
    "| repeat() | elem [,n]     | elem, elem, elem, … endlessly or up to n times | <mark> `repeat(10, 3) --> 10 10 10` </mark>            |"
   ]
  },
  {
   "attachments": {},
   "cell_type": "markdown",
   "metadata": {},
   "source": [
    "## Iterators terminating on the shortest input sequence\n",
    "\n",
    "| Iterator              | Arguments                   | Results                                    | Example                                                  |\n",
    "|-----------------------|-----------------------------|--------------------------------------------|----------------------------------------------------------|\n",
    "| accumulate()          | p [,func]                   | p0, p0+p1, p0+p1+p2, …                     | <mark>`accumulate([1,2,3,4,5]) --> 1 3 6 10 15 `</mark>                 |\n",
    "| chain()               | p, q, …                     | p0, p1, … plast, q0, q1, …                 | <mark>`chain('ABC', 'DEF') --> A B C D E F`</mark>                      |\n",
    "| chain.from_iterable() | iterable                    | p0, p1, … plast, q0, q1, …                 | <mark>`chain.from_iterable(['ABC', 'DEF']) --> A B C D E F`</mark>      |\n",
    "| compress()            | data, selectors             | (d[0] if s[0]), (d[1] if s[1]), …          | <mark>`compress('ABCDEF', [1,0,1,0,1,1]) --> A C E F`</mark>            |\n",
    "| dropwhile()           | pred, seq                   | seq[n], seq[n+1], starting when pred fails | <mark>`dropwhile(lambda x: x<5, [1,4,6,4,1]) --> 6 4 1` </mark>         |\n",
    "| filterfalse()         | pred, seq                   | elements of seq where pred(elem) is false  | <mark>`filterfalse(lambda x: x%2, range(10)) --> 0 2 4 6 8`</mark>      |\n",
    "| groupby()             | iterable[, key]             | sub-iterators grouped by value of key(v)   |                                                          |\n",
    "| islice()              | seq, [start,] stop [, step] | elements from seq[start:stop:step]         | <mark>`islice('ABCDEFG', 2, None) --> C D E F G`</mark>                 |\n",
    "| pairwise()            | iterable                    | (p[0], p[1]), (p[1], p[2])                 | <mark>`pairwise('ABCDEFG') --> AB BC CD DE EF FG`</mark>                |\n",
    "| starmap()             | func, seq                   | func(*seq[0]), func(*seq[1]), …            | <mark>`starmap(pow, [(2,5), (3,2), (10,3)]) --> 32 9 1000`</mark>       |\n",
    "| takewhile()           | pred, seq                   | seq[0], seq[1], until pred fails           | <mark>`takewhile(lambda x: x<5, [1,4,6,4,1]) --> 1 4 `</mark>           |\n",
    "| tee()                 | it, n                       | it1, it2, … itn splits one iterator into n |                                                          |\n",
    "| zip_longest()         | p, q, …                     | (p[0], q[0]), (p[1], q[1]), …              | <mark>`zip_longest('ABCD', 'xy', fillvalue='-') --> Ax By C- D-`</mark> |\n"
   ]
  },
  {
   "attachments": {},
   "cell_type": "markdown",
   "metadata": {},
   "source": [
    "## Combinatoric iterators\n",
    "\n",
    "| Iterator                        | Arguments          | Results                                                       |\n",
    "|---------------------------------|--------------------|---------------------------------------------------------------|\n",
    "| product()                       | p, q, … [repeat=1] | cartesian product, equivalent to a nested for-loop            |\n",
    "| permutations()                  | p[, r]             | r-length tuples, all possible orderings, no repeated elements |\n",
    "| combinations()                  | p, r               | r-length tuples, in sorted order, no repeated elements        |\n",
    "| combinations_with_replacement() | p, r               | r-length tuples, in sorted order, with repeated elements      |\n",
    "\n",
    "Some examples:\n",
    "\n",
    "| Examples                                 | Results                                         | Results                                                       |\n",
    "|------------------------------------------|-------------------------------------------------|---------------------------------------------------------------|\n",
    "| <mark>`product('ABCD', repeat=2)`</mark>               | <mark>`AA AB AC AD BA BB BC BD CA CB CC CD DA DB DC DD`</mark> | cartesian product, equivalent to a nested for-loop            |\n",
    "| <mark>`permutations('ABCD', 2)`</mark>                  | <mark>`AB AC AD BA BC BD CA CB CD DA DB DC`</mark>             | r-length tuples, all possible orderings, no repeated elements |\n",
    "| <mark>`combinations('ABCD', 2)`</mark>                  | <mark>`AB AC AD BC BD CD`</mark>                               | r-length tuples, in sorted order, no repeated elements        |\n",
    "| <mark>`combinations_with_replacement('ABCD', 2)`</mark> | <mark>`AA AB AC AD BB BC BD CC CD DD`</mark>                   | r-length tuples, in sorted order, with repeated elements      |"
   ]
  },
  {
   "attachments": {},
   "cell_type": "markdown",
   "metadata": {},
   "source": [
    "# `itertools` recipes\n",
    "\n",
    "Itertools Reciples [URL](https://docs.python.org/3.6/library/itertools.html#itertools-recipes)"
   ]
  },
  {
   "attachments": {},
   "cell_type": "markdown",
   "metadata": {},
   "source": [
    "- `itertools.zip_longest`\n",
    "- `itertools.combinations`\n",
    "- `itertolls.combinations_with_replacement`\n",
    "- `itertools.permutations`\n",
    "- `itertools.count`\n",
    "- `itertools.repeat`\n",
    "- `itertools.cycle`\n",
    "- `itertools.accumulate`\n",
    "- `itertools.product`\n",
    "- `itertools.tee`\n",
    "- `itertools.islice`\n",
    "- `itertools.chain`\n",
    "- `itertools.filterfalse`\n",
    "- `itertools.takewhile`\n",
    "- `itertools.dropwhile`"
   ]
  },
  {
   "attachments": {},
   "cell_type": "markdown",
   "metadata": {},
   "source": [
    "## `itertools.compress()`\n",
    "\n",
    "Combine an iterable and a boolean selector. Returns corresponding elements where boolean is `True`."
   ]
  },
  {
   "cell_type": "code",
   "execution_count": 114,
   "metadata": {},
   "outputs": [
    {
     "name": "stdout",
     "output_type": "stream",
     "text": [
      "['2020-02-04', '2020-01-24', '2020-02-10', '2020-02-15']\n"
     ]
    }
   ],
   "source": [
    "dates = [\n",
    "    \"2020-01-01\",\n",
    "    \"2020-02-04\",\n",
    "    \"2020-02-01\",\n",
    "    \"2020-01-24\",\n",
    "    \"2020-01-08\",\n",
    "    \"2020-02-10\",\n",
    "    \"2020-02-15\",\n",
    "    \"2020-02-11\",\n",
    "]\n",
    "\n",
    "counts = [1, 4, 3, 8, 0, 7, 9, 2]\n",
    "counts_2 = counts.copy()\n",
    "\n",
    "from itertools import compress\n",
    "bools = [n > 3 for n in counts]\n",
    "\n",
    "print(list(compress(dates, bools)))  # Compress returns iterator!"
   ]
  },
  {
   "cell_type": "code",
   "execution_count": 115,
   "metadata": {},
   "outputs": [
    {
     "data": {
      "text/html": [
       "<div>\n",
       "<style scoped>\n",
       "    .dataframe tbody tr th:only-of-type {\n",
       "        vertical-align: middle;\n",
       "    }\n",
       "\n",
       "    .dataframe tbody tr th {\n",
       "        vertical-align: top;\n",
       "    }\n",
       "\n",
       "    .dataframe thead th {\n",
       "        text-align: right;\n",
       "    }\n",
       "</style>\n",
       "<table border=\"1\" class=\"dataframe\">\n",
       "  <thead>\n",
       "    <tr style=\"text-align: right;\">\n",
       "      <th></th>\n",
       "      <th>mpg</th>\n",
       "      <th>cylinders</th>\n",
       "      <th>displacement</th>\n",
       "      <th>horsepower</th>\n",
       "      <th>weight</th>\n",
       "      <th>acceleration</th>\n",
       "      <th>model_year</th>\n",
       "      <th>origin</th>\n",
       "      <th>name</th>\n",
       "    </tr>\n",
       "  </thead>\n",
       "  <tbody>\n",
       "    <tr>\n",
       "      <th>0</th>\n",
       "      <td>18.0</td>\n",
       "      <td>8</td>\n",
       "      <td>307.0</td>\n",
       "      <td>130.0</td>\n",
       "      <td>3504</td>\n",
       "      <td>12.0</td>\n",
       "      <td>70</td>\n",
       "      <td>usa</td>\n",
       "      <td>chevrolet chevelle malibu</td>\n",
       "    </tr>\n",
       "    <tr>\n",
       "      <th>1</th>\n",
       "      <td>15.0</td>\n",
       "      <td>8</td>\n",
       "      <td>350.0</td>\n",
       "      <td>165.0</td>\n",
       "      <td>3693</td>\n",
       "      <td>11.5</td>\n",
       "      <td>70</td>\n",
       "      <td>usa</td>\n",
       "      <td>buick skylark 320</td>\n",
       "    </tr>\n",
       "    <tr>\n",
       "      <th>2</th>\n",
       "      <td>18.0</td>\n",
       "      <td>8</td>\n",
       "      <td>318.0</td>\n",
       "      <td>150.0</td>\n",
       "      <td>3436</td>\n",
       "      <td>11.0</td>\n",
       "      <td>70</td>\n",
       "      <td>usa</td>\n",
       "      <td>plymouth satellite</td>\n",
       "    </tr>\n",
       "    <tr>\n",
       "      <th>3</th>\n",
       "      <td>16.0</td>\n",
       "      <td>8</td>\n",
       "      <td>304.0</td>\n",
       "      <td>150.0</td>\n",
       "      <td>3433</td>\n",
       "      <td>12.0</td>\n",
       "      <td>70</td>\n",
       "      <td>usa</td>\n",
       "      <td>amc rebel sst</td>\n",
       "    </tr>\n",
       "    <tr>\n",
       "      <th>4</th>\n",
       "      <td>17.0</td>\n",
       "      <td>8</td>\n",
       "      <td>302.0</td>\n",
       "      <td>140.0</td>\n",
       "      <td>3449</td>\n",
       "      <td>10.5</td>\n",
       "      <td>70</td>\n",
       "      <td>usa</td>\n",
       "      <td>ford torino</td>\n",
       "    </tr>\n",
       "  </tbody>\n",
       "</table>\n",
       "</div>"
      ],
      "text/plain": [
       "    mpg  cylinders  displacement  horsepower  weight  acceleration  \\\n",
       "0  18.0          8         307.0       130.0    3504          12.0   \n",
       "1  15.0          8         350.0       165.0    3693          11.5   \n",
       "2  18.0          8         318.0       150.0    3436          11.0   \n",
       "3  16.0          8         304.0       150.0    3433          12.0   \n",
       "4  17.0          8         302.0       140.0    3449          10.5   \n",
       "\n",
       "   model_year origin                       name  \n",
       "0          70    usa  chevrolet chevelle malibu  \n",
       "1          70    usa          buick skylark 320  \n",
       "2          70    usa         plymouth satellite  \n",
       "3          70    usa              amc rebel sst  \n",
       "4          70    usa                ford torino  "
      ]
     },
     "execution_count": 115,
     "metadata": {},
     "output_type": "execute_result"
    }
   ],
   "source": [
    "df_mpg = sns.load_dataset('mpg')\n",
    "\n",
    "df_mpg.head()"
   ]
  },
  {
   "cell_type": "code",
   "execution_count": 117,
   "metadata": {},
   "outputs": [
    {
     "name": "stdout",
     "output_type": "stream",
     "text": [
      "['toyota corona mark ii', 'plymouth duster', 'ford maverick', 'datsun pl510', 'volkswagen 1131 deluxe sedan', 'peugeot 504', 'audi 100 ls', 'saab 99e', 'bmw 2002', 'amc gremlin', 'datsun pl510', 'chevrolet vega 2300', 'toyota corona', 'ford pinto', 'amc gremlin', 'ford torino 500', 'chevrolet vega (sw)', 'pontiac firebird', 'mercury capri 2000', 'opel 1900', 'peugeot 304', 'fiat 124b', 'toyota corolla 1200', 'datsun 1200', 'volkswagen model 111', 'plymouth cricket', 'toyota corona hardtop', 'dodge colt hardtop', 'volkswagen type 3', 'chevrolet vega', 'ford pinto runabout', 'mazda rx2 coupe', 'volkswagen 411 (sw)', 'peugeot 504 (sw)', 'renault 12 (sw)', 'ford pinto (sw)', 'datsun 510 (sw)', 'toyouta corona mark ii (sw)', 'dodge colt (sw)', 'toyota corolla 1600 (sw)', 'plymouth duster', 'volkswagen super beetle', 'toyota carina', 'chevrolet vega', 'datsun 610', 'ford pinto', 'mercury capri v6', 'fiat 124 sport coupe', 'fiat 128', 'opel manta', 'audi 100ls', 'volvo 144ea', 'saab 99le', 'toyota mark ii', 'plymouth duster', 'ford maverick', 'amc hornet', 'datsun b210', 'ford pinto', 'toyota corolla 1200', 'chevrolet vega', 'audi fox', 'volkswagen dasher', 'opel manta', 'toyota corona', 'datsun 710', 'dodge colt', 'fiat 128', 'fiat 124 tc', 'honda civic', 'subaru', 'fiat x1.9', 'plymouth valiant custom', 'buick skyhawk', 'chevrolet monza 2+2', 'toyota corolla', 'ford pinto', 'amc gremlin', 'pontiac astro', 'toyota corona', 'volkswagen dasher', 'datsun 710', 'volkswagen rabbit', 'amc pacer', 'audi 100ls', 'peugeot 504', 'volvo 244dl', 'saab 99le', 'honda civic cvcc', 'fiat 131', 'opel 1900', 'capri ii', 'dodge colt', 'renault 12tl', 'plymouth valiant', 'chevrolet nova', 'ford maverick', 'amc hornet', 'chevrolet chevette', 'chevrolet woody', 'vw rabbit', 'honda civic', 'dodge aspen se', 'pontiac ventura sj', 'volkswagen rabbit', 'datsun b-210', 'toyota corolla', 'ford pinto', 'volvo 245', 'peugeot 504', 'toyota mark ii', 'honda accord cvcc', 'buick opel isuzu deluxe', 'renault 5 gtl', 'plymouth arrow gs', 'datsun f-10 hatchback', 'buick skylark', 'plymouth volare custom', 'ford granada', 'volkswagen rabbit custom', 'pontiac sunbird coupe', 'toyota corolla liftback', 'ford mustang ii 2+2', 'chevrolet chevette', 'dodge colt m/m', 'subaru dl', 'volkswagen dasher', 'datsun 810', 'bmw 320i', 'mazda rx-4', 'volkswagen rabbit custom diesel', 'ford fiesta', 'mazda glc deluxe', 'datsun b210 gx', 'honda civic cvcc', 'oldsmobile cutlass salon brougham', 'dodge diplomat', 'mercury monarch ghia', 'pontiac phoenix lj', 'chevrolet malibu', 'ford fairmont (auto)', 'ford fairmont (man)', 'plymouth volare', 'amc concord', 'buick century special', 'mercury zephyr', 'dodge aspen', 'amc concord d/l', 'chevrolet monte carlo landau', 'ford futura', 'chevrolet chevette', 'toyota corona', 'datsun 510', 'dodge omni', 'toyota celica gt liftback', 'plymouth sapporo', 'oldsmobile starfire sx', 'datsun 200-sx', 'audi 5000', 'saab 99gle', 'volkswagen scirocco', 'honda accord lx', 'pontiac lemans v6', 'mercury zephyr 6', 'ford fairmont 4', 'amc concord dl 6', 'dodge aspen 6', 'dodge st. regis', 'chevrolet malibu classic (sw)', 'chrysler lebaron town @ country (sw)', 'vw rabbit custom', 'maxda glc deluxe', 'dodge colt hatchback custom', 'amc spirit dl', 'mercedes benz 300d', 'cadillac eldorado', 'peugeot 504', 'oldsmobile cutlass salon brougham', 'plymouth horizon', 'plymouth horizon tc3', 'datsun 210', 'fiat strada custom', 'buick skylark limited', 'chevrolet citation', 'oldsmobile omega brougham', 'pontiac phoenix', 'vw rabbit', 'toyota corolla tercel', 'chevrolet chevette', 'datsun 310', 'chevrolet citation', 'ford fairmont', 'amc concord', 'dodge aspen', 'audi 4000', 'toyota corona liftback', 'mazda 626', 'datsun 510 hatchback', 'toyota corolla', 'mazda glc', 'dodge colt', 'datsun 210', 'vw rabbit c (diesel)', 'vw dasher (diesel)', 'audi 5000s (diesel)', 'mercedes-benz 240d', 'honda civic 1500 gl', 'renault lecar deluxe', 'subaru dl', 'vokswagen rabbit', 'datsun 280-zx', 'mazda rx-7 gs', 'triumph tr7 coupe', 'ford mustang cobra', 'honda accord', 'plymouth reliant', 'buick skylark', 'dodge aries wagon (sw)', 'chevrolet citation', 'plymouth reliant', 'toyota starlet', 'plymouth champ', 'honda civic 1300', 'subaru', 'datsun 210 mpg', 'toyota tercel', 'mazda glc 4', 'plymouth horizon 4', 'ford escort 4w', 'ford escort 2h', 'volkswagen jetta', 'renault 18i', 'honda prelude', 'toyota corolla', 'datsun 200sx', 'mazda 626', 'peugeot 505s turbo diesel', 'volvo diesel', 'toyota cressida', 'datsun 810 maxima', 'buick century', 'oldsmobile cutlass ls', 'ford granada gl', 'chevrolet cavalier', 'chevrolet cavalier wagon', 'chevrolet cavalier 2-door', 'pontiac j2000 se hatchback', 'dodge aries se', 'pontiac phoenix', 'ford fairmont futura', 'amc concord dl', 'volkswagen rabbit l', 'mazda glc custom l', 'mazda glc custom', 'plymouth horizon miser', 'mercury lynx l', 'nissan stanza xe', 'honda accord', 'toyota corolla', 'honda civic', 'honda civic (auto)', 'datsun 310 gx', 'buick century limited', 'oldsmobile cutlass ciera (diesel)', 'chrysler lebaron medallion', 'ford granada l', 'toyota celica gt', 'dodge charger 2.2', 'chevrolet camaro', 'ford mustang gl', 'vw pickup', 'dodge rampage', 'ford ranger', 'chevy s-10']\n"
     ]
    }
   ],
   "source": [
    "cars = df_mpg['name']\n",
    "mpg_vals = df_mpg['mpg']\n",
    "\n",
    "efficiency_threshold = 18\n",
    "\n",
    "matching_cars = [n > efficiency_threshold for n in mpg_vals]\n",
    "\n",
    "print(\n",
    "    list(\n",
    "        it.compress(\n",
    "        cars,\n",
    "        matching_cars\n",
    "        )\n",
    "    )\n",
    ")\n"
   ]
  },
  {
   "cell_type": "code",
   "execution_count": null,
   "metadata": {},
   "outputs": [],
   "source": []
  }
 ],
 "metadata": {
  "kernelspec": {
   "display_name": "Python 3",
   "language": "python",
   "name": "python3"
  },
  "language_info": {
   "codemirror_mode": {
    "name": "ipython",
    "version": 3
   },
   "file_extension": ".py",
   "mimetype": "text/x-python",
   "name": "python",
   "nbconvert_exporter": "python",
   "pygments_lexer": "ipython3",
   "version": "3.9.16"
  },
  "orig_nbformat": 4
 },
 "nbformat": 4,
 "nbformat_minor": 2
}
